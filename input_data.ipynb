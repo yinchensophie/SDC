{
 "cells": [
  {
   "cell_type": "markdown",
   "metadata": {},
   "source": [
    "# Input Data\n",
    "\n",
    "This file contains input data preprocessing modules which will be called by main function which is in training.py.\n",
    "\n",
    "1. BMP to JPEG\n",
    "2. get_files\n",
    "3. get_batch"
   ]
  },
  {
   "cell_type": "code",
   "execution_count": 1,
   "metadata": {
    "collapsed": true
   },
   "outputs": [],
   "source": [
    "from PIL import Image\n",
    "import numpy as np\n",
    "import os\n",
    "import tensorflow as tf"
   ]
  },
  {
   "cell_type": "markdown",
   "metadata": {},
   "source": [
    "## 1. BMP to JPEG\n",
    "\n",
    "Some format of our pattern is bmp, so we need to convert into jpeg."
   ]
  },
  {
   "cell_type": "code",
   "execution_count": 2,
   "metadata": {
    "collapsed": true
   },
   "outputs": [],
   "source": [
    "def BMPtoJPEG(file_dir):\n",
    "    dirs = ['nail','scratch','smear']\n",
    "    new_dirs = ['nail_jpg','scratch_jpg','smear_jpg']\n",
    "    for nd in new_dirs:\n",
    "        os.makedirs(file_dir+'/'+nd, exist_ok = True)\n",
    "        \n",
    "    for d,nd in zip(dirs, new_dirs):\n",
    "        base = file_dir+'/'+d\n",
    "        nbase = file_dir+'/'+nd\n",
    "        for file in os.listdir(base):\n",
    "            img = Image.open(base+'/'+file)\n",
    "            img.save(nbase+'/'+file.replace('.bmp','.jpg'),'JPEG')"
   ]
  },
  {
   "cell_type": "markdown",
   "metadata": {},
   "source": [
    "## 2. get_files\n",
    "\n",
    "Get all pattern names in directory, and keep them as list. Label name will be kept as well."
   ]
  },
  {
   "cell_type": "code",
   "execution_count": 3,
   "metadata": {
    "collapsed": true
   },
   "outputs": [],
   "source": [
    "def get_files(file_dir):\n",
    "    '''\n",
    "    Args:\n",
    "        file_dir: file directory\n",
    "    Returns:\n",
    "        list of images and labels\n",
    "    '''\n",
    "    dirs = ['nail_jpg','scratch_jpg','smear_jpg']\n",
    "    image_list = []\n",
    "    label_list = []\n",
    "    label_num = 0\n",
    "    for d in dirs:\n",
    "        base = file_dir+'/'+d\n",
    "        for file in os.listdir(base):\n",
    "            image_list.append(base+'/'+file)\n",
    "            label_list.append(label_num)\n",
    "        label_num = label_num + 1\n",
    "    \n",
    "    \n",
    "    return image_list, label_list"
   ]
  },
  {
   "cell_type": "markdown",
   "metadata": {},
   "source": [
    "## 3. get_batch\n",
    "\n",
    "Create batch from the file list we just made.\n",
    "Do some image preprocessing, and also shuffle images in batch."
   ]
  },
  {
   "cell_type": "code",
   "execution_count": 4,
   "metadata": {
    "collapsed": true
   },
   "outputs": [],
   "source": [
    "def get_batch(image, label, image_W, image_H, batch_size, capacity):\n",
    "    '''\n",
    "    Args:\n",
    "        image: list type\n",
    "        label: list type\n",
    "        image_W: image width\n",
    "        image_H: image height\n",
    "        batch_size: batch size\n",
    "        capacity: the maximum elements in queue\n",
    "    Returns:\n",
    "        image_batch: 4D tensor [batch_size, width, height, 3], dtype=tf.float32\n",
    "        label_batch: 1D tensor [batch_size], dtype=tf.int32\n",
    "    '''\n",
    "    image = tf.cast(image, tf.string)\n",
    "    label = tf.cast(label, tf.int32)\n",
    "    \n",
    "    # make an input queue\n",
    "    input_queue = tf.train.slice_input_producer([image, label])\n",
    "    \n",
    "    label = input_queue[1]\n",
    "    image_contents = tf.read_file(input_queue[0])\n",
    "    image = tf.image.decode_jpeg(image_contents, channels=3)\n",
    "    \n",
    "    #image = tf.image.resize_images(image, [image_W, image_H])\n",
    "    \n",
    "    image = tf.image.resize_image_with_crop_or_pad(image, image_W+30, image_H+30)\n",
    "\n",
    "    image = tf.random_crop(image, [image_W, image_H, 3])\n",
    "    image = tf.image.random_flip_left_right(image)\n",
    "    image = tf.image.random_flip_up_down(image)\n",
    "    # Brightness/saturation/constrast provides small gains .2%~.5% on cifar.\n",
    "    image = tf.image.random_brightness(image, max_delta=64. / 255.)\n",
    "    image = tf.image.random_saturation(image, lower=0.5, upper=1.5)\n",
    "    image = tf.image.random_contrast(image, lower=0.2, upper=1.8)\n",
    "\n",
    "    \n",
    "    # while inference, you should comment the following line.\n",
    "    image = tf.image.per_image_standardization(image)  #Sophie: tf 1.0\n",
    "    #image = tf.image.per_image_whitening(image) #Sophie: tf 0.11\n",
    " \n",
    "    #image_batch, label_batch = tf.train.batch([image, label],\n",
    "                                                # batch_size= batch_size,\n",
    "                                                # num_threads= 64, \n",
    "                                                # capacity = capacity)\n",
    "    \n",
    "    #you can also use shuffle_batch \n",
    "    image_batch, label_batch = tf.train.shuffle_batch([image,label], \n",
    "                                                      batch_size=batch_size, \n",
    "                                                      num_threads=64, \n",
    "                                                      capacity=capacity, \n",
    "                                                      min_after_dequeue=capacity-1)\n",
    "\n",
    "    label_batch = tf.reshape(label_batch, [batch_size])\n",
    "    image_batch = tf.cast(image_batch, tf.float32)\n",
    "    \n",
    "    return image_batch, label_batch\n"
   ]
  },
  {
   "cell_type": "code",
   "execution_count": null,
   "metadata": {
    "collapsed": true
   },
   "outputs": [],
   "source": []
  }
 ],
 "metadata": {
  "kernelspec": {
   "display_name": "Python 3",
   "language": "python",
   "name": "python3"
  },
  "language_info": {
   "codemirror_mode": {
    "name": "ipython",
    "version": 3
   },
   "file_extension": ".py",
   "mimetype": "text/x-python",
   "name": "python",
   "nbconvert_exporter": "python",
   "pygments_lexer": "ipython3",
   "version": "3.6.1"
  }
 },
 "nbformat": 4,
 "nbformat_minor": 2
}
